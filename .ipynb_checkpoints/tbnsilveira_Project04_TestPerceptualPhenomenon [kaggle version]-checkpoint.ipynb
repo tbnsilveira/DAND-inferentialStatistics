{
 "cells": [
  {
   "cell_type": "markdown",
   "metadata": {},
   "source": [
    "# Inferential statistics applied to a Stroop Effect measurement\n",
    "\n",
    "This analysis aims to compute descriptive statistics and to perform a statistical test on a dataset based on a psychological phenomenon: the Stroop Effect. This report is structured into four sections: (1) *Introduction*, where the investigation problem is set; (2) *Descriptive Statistics*, where the data is parameterized statistically; (3) *Hypotheses Test*, in which a statistical test is applied to data and its results are reported; and (4) *Conclusion*, where an in-depth discussion on Stroop Effect is made.  \n",
    "\n",
    "\n",
    "## Table of Contents\n",
    "* <a href=\"#intro\">1. Introduction</a>\n",
    "  * <a href=\"#sec1.1\"> 1.1. The Stroop Effect </a>\n",
    "  * <a href=\"#sec1.2\"> 1.2. Initial statements</a>\n",
    "  * <a href=\"#sec1.3\"> 1.3. Understanding the data and their variables </a>\n",
    "  * <a href=\"#sec1.4\"> 1.4. Hypotheses to be explored </a>\n",
    "\n",
    "* <a href=\"#descrStats\">2. Descriptive statistics</a>\n",
    "  * <a href=\"#sec2.1\"> 2.1. Data statistics parameters </a>\n",
    "  * <a href=\"#sec2.2\"> 2.2. Data distribution</a>\n",
    "    \n",
    "* <a href=\"#hypotheses\">3. Hypotheses test</a>\n",
    "  \n",
    "* <a href=\"#conclusions\">4. Conclusions</a>\n",
    " \n",
    "* <a href=\"#references\">References</a>"
   ]
  },
  {
   "cell_type": "markdown",
   "metadata": {},
   "source": [
    "<a id='intro'></a>\n",
    "## 1. Introduction"
   ]
  },
  {
   "cell_type": "markdown",
   "metadata": {},
   "source": [
    "<a id='sec1.1'></a>\n",
    "### 1.1. The Stroop Effect\n",
    "Accordingly to <a href=\"#[1]\">[1]</a>, the *Stroop Effect* is defined as follow:\n",
    "> (...) the Stroop effect is a demonstration of interference in the reaction time of a task. When the name of a color (e.g., \"blue\", \"green\", or \"red\") is printed in a color that is not denoted by the name (e.g., the word \"red\" printed in blue ink instead of red ink), naming the color of the word takes longer and is more prone to errors than when the color of the ink matches the name of the color. The effect is named after John Ridley Stroop, who first published the effect in English in 1935.\n",
    "\n",
    "These situations are defined as *congruent*, when the name of color is equivalent to the name, or *incongruent*, when the name denotes to another color, as shown in the following example sets."
   ]
  },
  {
   "cell_type": "markdown",
   "metadata": {},
   "source": [
    "** Congruent set of words:**  \n",
    "> <b><span style=\"color:green\">Green</span> <span style=\"color:red\">Red</span> <span style=\"color:blue\">Blue</span> <span style=\"color:orange\">Orange</span><br>\n",
    "\n",
    "** Incongruent set of words:**\n",
    "> <b><span style=\"color:red\">Green</span> <span style=\"color:green\">Red</span> <span style=\"color:orange\">Blue</span> <span style=\"color:blue\">Orange</span><br>"
   ]
  },
  {
   "cell_type": "markdown",
   "metadata": {},
   "source": [
    "<a id='sec1.2'></a>\n",
    "### 1.2. Initial statements\n",
    "This section sets up import statements for all the packages that will be used throughout this python notebook."
   ]
  },
  {
   "cell_type": "code",
   "execution_count": 1,
   "metadata": {
    "collapsed": false
   },
   "outputs": [],
   "source": [
    "# Data analysis packages:\n",
    "import pandas as pd\n",
    "import numpy as np\n",
    "#from datetime import datetime as dt\n",
    "\n",
    "# Visualization packages:\n",
    "import seaborn as sns\n",
    "import matplotlib.pyplot as plt\n",
    "%matplotlib inline"
   ]
  },
  {
   "cell_type": "markdown",
   "metadata": {},
   "source": [
    "<a id='sec1.3'></a>\n",
    "### 1.3. Understanding the data\n",
    "The dataset used in this analysis is available at <a href=\"#[3]\">[3]</a> and refers to the time of reading the ink color either for a list of congruent words and for a list of incongruent words. Each line of the dataset corresponds to a different person, in a total of 24 people, as confirmed by the dataset length."
   ]
  },
  {
   "cell_type": "markdown",
   "metadata": {},
   "source": [
    "In order to define the hypotheses that will lead this analysis, it is first needed to know which information is available in the dataset (attributes). Thus, the first lines of the dataset are shown below:"
   ]
  },
  {
   "cell_type": "code",
   "execution_count": 2,
   "metadata": {
    "collapsed": false
   },
   "outputs": [
    {
     "name": "stdout",
     "output_type": "stream",
     "text": [
      "The dataset has 24 samples.\n"
     ]
    },
    {
     "data": {
      "text/html": [
       "<div>\n",
       "<style>\n",
       "    .dataframe thead tr:only-child th {\n",
       "        text-align: right;\n",
       "    }\n",
       "\n",
       "    .dataframe thead th {\n",
       "        text-align: left;\n",
       "    }\n",
       "\n",
       "    .dataframe tbody tr th {\n",
       "        vertical-align: top;\n",
       "    }\n",
       "</style>\n",
       "<table border=\"1\" class=\"dataframe\">\n",
       "  <thead>\n",
       "    <tr style=\"text-align: right;\">\n",
       "      <th></th>\n",
       "      <th>Congruent</th>\n",
       "      <th>Incongruent</th>\n",
       "    </tr>\n",
       "  </thead>\n",
       "  <tbody>\n",
       "    <tr>\n",
       "      <th>0</th>\n",
       "      <td>12.079</td>\n",
       "      <td>19.278</td>\n",
       "    </tr>\n",
       "    <tr>\n",
       "      <th>1</th>\n",
       "      <td>16.791</td>\n",
       "      <td>18.741</td>\n",
       "    </tr>\n",
       "    <tr>\n",
       "      <th>2</th>\n",
       "      <td>9.564</td>\n",
       "      <td>21.214</td>\n",
       "    </tr>\n",
       "  </tbody>\n",
       "</table>\n",
       "</div>"
      ],
      "text/plain": [
       "   Congruent  Incongruent\n",
       "0     12.079       19.278\n",
       "1     16.791       18.741\n",
       "2      9.564       21.214"
      ]
     },
     "execution_count": 2,
     "metadata": {},
     "output_type": "execute_result"
    }
   ],
   "source": [
    "## Loading the dataset\n",
    "data = [[12.079,19.278],[16.791,18.741],[9.564,21.214],[8.630,15.687],[14.669,22.803],[12.238,20.878],[14.692,24.572],[8.987,17.394],[9.401,20.762],[14.480,26.282],[22.328,24.524],[15.298,18.644],[15.073,17.510],[16.929,20.330],[18.200,35.255],[12.130,22.158],[18.495,25.139],[10.639,20.429],[11.344,17.425],[12.369,34.288],[12.944,23.894],[14.233,17.960],[19.710,22.058],[16.004,21.157]]\n",
    "dataset = pd.DataFrame(data, columns=['Congruent','Incongruent'])\n",
    "## Printing the number of samples in the dataset:\n",
    "print('The dataset has {0} samples.'.format(len(dataset)))\n",
    "## Printing out some few lines:\n",
    "dataset.head(3)"
   ]
  },
  {
   "cell_type": "markdown",
   "metadata": {},
   "source": [
    "Once we have understood the phenomenon and the data available, we can then characterize the variables we are working with, as follow:\n",
    "* **Independent variable**: the independent variable is the one that does not depend on the sample and that are choosen a priori by the experimenter. In fact, it correspond to the variable we are trying to understand through the experiment. In this case, the independent variable is **the condition of the set of words**, i.e. whether the words are congruent or not. Put another way, we can imagine our independent variable *condition* assuming the value 0 when the words are congruents or assuming the value 1 if not.  \n",
    "\n",
    "* **Dependent variable**: on the other hand, the dependent variable varies accordingly to each sample. In this problem, it refers to **the time to read and say out loud the color in which a set of words is printed**.  \n",
    "\n",
    "The distributions for each one of the states of our independent variable can then be described as follow, remembering that population refers to all the people and sample refers only to the subjects participating in the experiment:  \n",
    "\n",
    "* Time to read and say out loud the color of the congruent set of words:  \n",
    "    - Population: $(\\mu_{c}, \\sigma_{c})$;  \n",
    "    - Sample: $(\\bar{X}_c, S_{c})$;  \n",
    "    > - $\\mu_{c}$ is the mean time for reading a congruent set of words; \n",
    "    > - $\\sigma_{c}$ stands for the standard deviation when reading a congruent set of words; \n",
    "    > - $\\bar{X}_c$ is the sample mean time for reading a congruent set of words; and \n",
    "    > - $S_{c}$ is the sample standard deviation when reading a congruent set of words.  \n",
    "        \n",
    "* Time to read and say out loud the color of the incongruent set of words:  \n",
    "    - Population: $(\\mu_{i}, \\sigma_{i})$;  \n",
    "    - Sample: $(\\bar{X}_i, S_{i})$;  \n",
    "    > - $\\mu_{i}$ is the mean time for reading an icongruent set of words; \n",
    "    > - $\\sigma_{i}$ stands for the standard deviation when reading an icongruent set of words; \n",
    "    > - $\\bar{X}_i$ is the sample mean time for reading an icongruent set of words; and \n",
    "    > - $S_{i}$ is the sample standard deviation when reading an icongruent set of words.  "
   ]
  },
  {
   "cell_type": "markdown",
   "metadata": {},
   "source": [
    "<a id='sec1.4'></a>\n",
    "### 1.4. Hypotheses to be explored\n",
    "\n",
    "Does the time for reading incongruent words differ from that reading congruent ones?  \n",
    "\n",
    "First of all, since the dataset we are considering has few samples, i.e. less than 30, we will assume that the population fits into a normal distribution. From this assumption we can then consider the sample mean as equivalent to the population mean. However, once we do not have the standard deviation of the population, it will be appropriate to consider a t-distribution. \n",
    "\n",
    "Furthermore, through the t-test we could infer how different the two population means (simbolized as $\\mu_c$ and $\\mu_i$ for congruent and incongruent set of words, respectively) are from each other, considering the measured samples. "
   ]
  },
  {
   "cell_type": "markdown",
   "metadata": {},
   "source": [
    "We know we are dealing with dependent sample (the subject who reads the congruent set of words is the same that reads the incongruent one), but we are interested in testing for an average difference among them. In <a href=\"#[5]\">[5]</a> this approach of testing is also defined as *paired t-Test*.  \n",
    "\n",
    "In order to do so, we first need to calculate the difference between the variables:"
   ]
  },
  {
   "cell_type": "code",
   "execution_count": 3,
   "metadata": {
    "collapsed": false,
    "scrolled": true
   },
   "outputs": [
    {
     "data": {
      "text/html": [
       "<div>\n",
       "<style>\n",
       "    .dataframe thead tr:only-child th {\n",
       "        text-align: right;\n",
       "    }\n",
       "\n",
       "    .dataframe thead th {\n",
       "        text-align: left;\n",
       "    }\n",
       "\n",
       "    .dataframe tbody tr th {\n",
       "        vertical-align: top;\n",
       "    }\n",
       "</style>\n",
       "<table border=\"1\" class=\"dataframe\">\n",
       "  <thead>\n",
       "    <tr style=\"text-align: right;\">\n",
       "      <th></th>\n",
       "      <th>Congruent</th>\n",
       "      <th>Incongruent</th>\n",
       "      <th>Difference</th>\n",
       "    </tr>\n",
       "  </thead>\n",
       "  <tbody>\n",
       "    <tr>\n",
       "      <th>0</th>\n",
       "      <td>12.079</td>\n",
       "      <td>19.278</td>\n",
       "      <td>-7.199</td>\n",
       "    </tr>\n",
       "    <tr>\n",
       "      <th>1</th>\n",
       "      <td>16.791</td>\n",
       "      <td>18.741</td>\n",
       "      <td>-1.950</td>\n",
       "    </tr>\n",
       "    <tr>\n",
       "      <th>2</th>\n",
       "      <td>9.564</td>\n",
       "      <td>21.214</td>\n",
       "      <td>-11.650</td>\n",
       "    </tr>\n",
       "  </tbody>\n",
       "</table>\n",
       "</div>"
      ],
      "text/plain": [
       "   Congruent  Incongruent  Difference\n",
       "0     12.079       19.278      -7.199\n",
       "1     16.791       18.741      -1.950\n",
       "2      9.564       21.214     -11.650"
      ]
     },
     "execution_count": 3,
     "metadata": {},
     "output_type": "execute_result"
    }
   ],
   "source": [
    "dataset['Difference'] = dataset['Congruent'] - dataset['Incongruent']\n",
    "dataset.head(3)"
   ]
  },
  {
   "cell_type": "markdown",
   "metadata": {},
   "source": [
    "Once we have calculated the difference among the congruent and incongruent distributions, we still can assume it follows a t-distribution having its mean represented by $\\mu_d$, which is given by $(\\mu_d = \\mu_c-\\mu_i)$, and its standard deviation represented by $\\sigma_d$. In the same way, the difference of the sample distributions has a mean time represented by $\\bar{X}_d$ and a standard deviation represented by $S_d$."
   ]
  },
  {
   "cell_type": "markdown",
   "metadata": {},
   "source": [
    "We then hypothesize as follow:  \n",
    "* **Null hypothesis:** the population difference is centered in zero, i.e., the mean time is the same for reading either congruent and incongruent set of words. This definition can be mathematically defined as:  \n",
    "    $H_0: \\mu_d = 0$  \n",
    "      \n",
    "* **Alternative hypothesis:** the population difference is nonzero. If we observe the previous few measurements we notice the time is shorter for reading the congruent set of words, thereby we can hypothesize that reading congruent words is faster than reading the incongruent ones. Mathematically it is the same as obtaining a negative difference. Thus our alternative hypothesis can be narrowed to the following condition:  \n",
    "    $H_a: \\mu_d < 0$  \n",
    "\n",
    "In order to test them we shall run a one-tailed t-test using an arbitrated $\\alpha$ level of $0.05$, as it can be seen in <a href=\"#hypotheses\">Section 3</a>."
   ]
  },
  {
   "cell_type": "markdown",
   "metadata": {},
   "source": [
    "-------------"
   ]
  },
  {
   "cell_type": "markdown",
   "metadata": {},
   "source": [
    "<a id='wrangling'></a>\n",
    "## 2. Descriptive statistics\n",
    "The term statistics here stands for the characteristics of the sample, in the way we could describe them in terms of its central tendency and variability.  \n",
    "\n",
    "The Python Pandas library offers a function to generate the descriptive statistics for a given dataset, summarizing its central tendency, dispersion and shape of the dataset's distribution. For numerical data, as it is the case, this function results in the following statistics: *count*, *mean*, *std* for the standard deviation, *min* and *max* values, the lower percentile (*25%*), the median or *50% percentile*, and the upper percentile (*75%*). "
   ]
  },
  {
   "cell_type": "code",
   "execution_count": 4,
   "metadata": {
    "collapsed": false,
    "scrolled": false
   },
   "outputs": [
    {
     "data": {
      "text/html": [
       "<div>\n",
       "<style>\n",
       "    .dataframe thead tr:only-child th {\n",
       "        text-align: right;\n",
       "    }\n",
       "\n",
       "    .dataframe thead th {\n",
       "        text-align: left;\n",
       "    }\n",
       "\n",
       "    .dataframe tbody tr th {\n",
       "        vertical-align: top;\n",
       "    }\n",
       "</style>\n",
       "<table border=\"1\" class=\"dataframe\">\n",
       "  <thead>\n",
       "    <tr style=\"text-align: right;\">\n",
       "      <th></th>\n",
       "      <th>Congruent</th>\n",
       "      <th>Incongruent</th>\n",
       "      <th>Difference</th>\n",
       "    </tr>\n",
       "  </thead>\n",
       "  <tbody>\n",
       "    <tr>\n",
       "      <th>count</th>\n",
       "      <td>24.000000</td>\n",
       "      <td>24.000000</td>\n",
       "      <td>24.000000</td>\n",
       "    </tr>\n",
       "    <tr>\n",
       "      <th>mean</th>\n",
       "      <td>14.051125</td>\n",
       "      <td>22.015917</td>\n",
       "      <td>-7.964792</td>\n",
       "    </tr>\n",
       "    <tr>\n",
       "      <th>std</th>\n",
       "      <td>3.559358</td>\n",
       "      <td>4.797057</td>\n",
       "      <td>4.864827</td>\n",
       "    </tr>\n",
       "    <tr>\n",
       "      <th>min</th>\n",
       "      <td>8.630000</td>\n",
       "      <td>15.687000</td>\n",
       "      <td>-21.919000</td>\n",
       "    </tr>\n",
       "    <tr>\n",
       "      <th>25%</th>\n",
       "      <td>11.895250</td>\n",
       "      <td>18.716750</td>\n",
       "      <td>-10.258500</td>\n",
       "    </tr>\n",
       "    <tr>\n",
       "      <th>50%</th>\n",
       "      <td>14.356500</td>\n",
       "      <td>21.017500</td>\n",
       "      <td>-7.666500</td>\n",
       "    </tr>\n",
       "    <tr>\n",
       "      <th>75%</th>\n",
       "      <td>16.200750</td>\n",
       "      <td>24.051500</td>\n",
       "      <td>-3.645500</td>\n",
       "    </tr>\n",
       "    <tr>\n",
       "      <th>max</th>\n",
       "      <td>22.328000</td>\n",
       "      <td>35.255000</td>\n",
       "      <td>-1.950000</td>\n",
       "    </tr>\n",
       "  </tbody>\n",
       "</table>\n",
       "</div>"
      ],
      "text/plain": [
       "       Congruent  Incongruent  Difference\n",
       "count  24.000000    24.000000   24.000000\n",
       "mean   14.051125    22.015917   -7.964792\n",
       "std     3.559358     4.797057    4.864827\n",
       "min     8.630000    15.687000  -21.919000\n",
       "25%    11.895250    18.716750  -10.258500\n",
       "50%    14.356500    21.017500   -7.666500\n",
       "75%    16.200750    24.051500   -3.645500\n",
       "max    22.328000    35.255000   -1.950000"
      ]
     },
     "execution_count": 4,
     "metadata": {},
     "output_type": "execute_result"
    }
   ],
   "source": [
    "## Obtaining the dataset descriptive statistics:\n",
    "dataset.describe()"
   ]
  },
  {
   "cell_type": "markdown",
   "metadata": {},
   "source": [
    "From the values above we can see that in both sample distributions the *median* is close to the mean value, as it is supposed to be in a normal distribution. Thus it gaves us an idea on how is the central tendency of these distributions. The standard deviation values give us the information on how these distributions are spread out, indicating that the congruent values are closer to their mean. \n",
    "\n",
    "These observed descriptive statistics are confirmed in the plot below, where both sample distributions can be visualized. Also, the same observations are valid for the *difference distribution* ($\\bar{X}_d$, $S_d$). Despite the outlier measurements in the distribution from *incongruent* word set and the skewness in the *difference*, it can be noticed that all of them follow an approximately normal curve. "
   ]
  },
  {
   "cell_type": "code",
   "execution_count": 5,
   "metadata": {
    "collapsed": false,
    "scrolled": false
   },
   "outputs": [
    {
     "data": {
      "image/png": "[encoded data removed]",
      "text/plain": [
       "<matplotlib.figure.Figure at 0x7fa3d72aa2d0>"
      ]
     },
     "metadata": {},
     "output_type": "display_data"
    }
   ],
   "source": [
    "fig1, ax = plt.subplots(figsize=[12,6])  #Defines the graph window size\n",
    "fig1.subplots_adjust(top=0.92)\n",
    "plt.suptitle('Sample distributions for Stroop Effect experiment', fontsize=14, fontweight='bold')\n",
    "\n",
    "sns.distplot(dataset['Congruent'], label='Congruent', ax=ax)\n",
    "sns.distplot(dataset['Incongruent'], label='Incongruent', ax=ax)\n",
    "sns.distplot(dataset['Difference'], label='Difference', ax=ax)\n",
    "ax.legend(ncol=2, loc=\"upper right\", frameon=True)\n",
    "\n",
    "ax.set_xlabel('Time to read and say out the printed color of the word set', fontsize=12)\n",
    "plt.show()"
   ]
  },
  {
   "cell_type": "markdown",
   "metadata": {},
   "source": [
    "The same distributions can be viewed on the boxplot below, which clearly shows the distribution range and highlights the probable outliers."
   ]
  },
  {
   "cell_type": "code",
   "execution_count": 6,
   "metadata": {
    "collapsed": false,
    "scrolled": false
   },
   "outputs": [
    {
     "name": "stderr",
     "output_type": "stream",
     "text": [
      "/home/tbnsilveira/anaconda3/envs/analytics2/lib/python2.7/site-packages/seaborn/categorical.py:2171: UserWarning: The boxplot API has been changed. Attempting to adjust your arguments for the new API (which might not work). Please update your code. See the version 0.6 release notes for more info.\n",
      "  warnings.warn(msg, UserWarning)\n"
     ]
    },
    {
     "data": {
      "image/png": "[encoded data removed]",
      "text/plain": [
       "<matplotlib.figure.Figure at 0x7fa3d7294f50>"
      ]
     },
     "metadata": {},
     "output_type": "display_data"
    }
   ],
   "source": [
    "fig2, ax2 = plt.subplots(figsize=[12,6])  #Defines the graph window size\n",
    "fig2.subplots_adjust(top=0.92)\n",
    "plt.suptitle('Boxplot of the sample distributions for Stroop Effect experiment', fontsize=14, fontweight='bold')\n",
    "sns.boxplot(dataset, orient='v', ax=ax2)\n",
    "plt.show()"
   ]
  },
  {
   "cell_type": "markdown",
   "metadata": {},
   "source": [
    "-------------"
   ]
  },
  {
   "cell_type": "markdown",
   "metadata": {},
   "source": [
    "<a id='hypotheses'></a>\n",
    "## 3. Hypotheses Test\n",
    "In this section we will perform a t-test to evaluate the hypotheses set on  <a href=\"#sec1.4\">Section 1.4</a>, using as reference the class material of Udacity Nanodegree as well as the code available in <a href=\"#[4]\">[4]</a>.\n",
    "\n",
    "As stated before, the following definitions must be considered:\n",
    "* Hypotheses to test:  \n",
    "  * $H_0: \\mu_d = 0$  \n",
    "  * $H_a: \\mu_d < 0$  \n",
    "\n",
    "* One-tailed t-test with $\\alpha$ level of $0.05$ and dependent sample."
   ]
  },
  {
   "cell_type": "markdown",
   "metadata": {},
   "source": [
    "#### Calculating degrees of freedom\n",
    "Since we are considering dependent sample, the degrees of freedom (*df*) are found by the following relation:  \n",
    "${df} = n -1$, where $n$ is the number of samples."
   ]
  },
  {
   "cell_type": "code",
   "execution_count": 7,
   "metadata": {
    "collapsed": false
   },
   "outputs": [
    {
     "name": "stdout",
     "output_type": "stream",
     "text": [
      "Degrees of freedom: 23\n"
     ]
    }
   ],
   "source": [
    "n = len(dataset)\n",
    "df = n-1\n",
    "print('Degrees of freedom: {}'.format(df))"
   ]
  },
  {
   "cell_type": "markdown",
   "metadata": {},
   "source": [
    "#### Calculating the t-test parameters\n",
    "To proceed the test, we need then to calculate the sample mean, $\\bar{X}_d$, and its respective standard deviation $S_d$:"
   ]
  },
  {
   "cell_type": "code",
   "execution_count": 8,
   "metadata": {
    "collapsed": false
   },
   "outputs": [
    {
     "name": "stdout",
     "output_type": "stream",
     "text": [
      "Sample mean = -7.96479166667\n",
      "Sample std = 4.86482691036\n"
     ]
    }
   ],
   "source": [
    "## Difference mean\n",
    "Xd = dataset['Difference'].mean()\n",
    "print('Sample mean = {}'.format(Xd))\n",
    "## Difference standard deviation\n",
    "Sd = dataset['Difference'].std()\n",
    "print('Sample std = {}'.format(Sd))"
   ]
  },
  {
   "cell_type": "markdown",
   "metadata": {},
   "source": [
    "With these values, we can now calculate the *standard error of the mean* as follow:  \n",
    "${SEM} = S_d / \\sqrt{n}$"
   ]
  },
  {
   "cell_type": "code",
   "execution_count": 9,
   "metadata": {
    "collapsed": false
   },
   "outputs": [
    {
     "name": "stdout",
     "output_type": "stream",
     "text": [
      "SEM = 0.993028634778\n"
     ]
    }
   ],
   "source": [
    "SEM = Sd / np.sqrt(n)\n",
    "print('SEM = {}'.format(SEM))"
   ]
  },
  {
   "cell_type": "markdown",
   "metadata": {},
   "source": [
    "Finally, the t-test value is obtained from the relation:  \n",
    "$t = \\frac{\\bar{X}_d}{{SEM}}$\n"
   ]
  },
  {
   "cell_type": "code",
   "execution_count": 10,
   "metadata": {
    "collapsed": false,
    "scrolled": true
   },
   "outputs": [
    {
     "name": "stdout",
     "output_type": "stream",
     "text": [
      "t-test = -8.02070694411\n"
     ]
    }
   ],
   "source": [
    "t = Xd / SEM\n",
    "print('t-test = {}'.format(t))"
   ]
  },
  {
   "cell_type": "markdown",
   "metadata": {},
   "source": [
    "### Calculating the p-value"
   ]
  },
  {
   "cell_type": "markdown",
   "metadata": {},
   "source": [
    "Since we have defined an $\\alpha$ level, it is know we are considering a *p-value* less than $\\alpha$, i.e. $p < 0.05$. However, as this analysis runs over a computational platform, its exact value can be determined through the *stats* module of the *SciPy* library."
   ]
  },
  {
   "cell_type": "code",
   "execution_count": 11,
   "metadata": {
    "collapsed": true
   },
   "outputs": [],
   "source": [
    "from scipy import stats"
   ]
  },
  {
   "cell_type": "code",
   "execution_count": 12,
   "metadata": {
    "collapsed": false
   },
   "outputs": [
    {
     "name": "stdout",
     "output_type": "stream",
     "text": [
      "p-value = 0.000000021\n"
     ]
    }
   ],
   "source": [
    "p = stats.t.cdf(t, df=df)\n",
    "print('p-value = {0:.9f}'.format(p))"
   ]
  },
  {
   "cell_type": "markdown",
   "metadata": {},
   "source": [
    "In order to check the consistency of the results we have found, we will use a SciPy function to calculate the t-value and p-value:"
   ]
  },
  {
   "cell_type": "code",
   "execution_count": 13,
   "metadata": {
    "collapsed": false
   },
   "outputs": [
    {
     "data": {
      "text/plain": [
       "Ttest_relResult(statistic=-8.0207069441099588, pvalue=4.1030005857111556e-08)"
      ]
     },
     "execution_count": 13,
     "metadata": {},
     "output_type": "execute_result"
    }
   ],
   "source": [
    "stats.ttest_rel(dataset['Congruent'],dataset['Incongruent'])"
   ]
  },
  {
   "cell_type": "markdown",
   "metadata": {},
   "source": [
    "### Rejecting the null hypothesis"
   ]
  },
  {
   "cell_type": "markdown",
   "metadata": {},
   "source": [
    "The $t_{critical}$ value is obtained from t-Table and when considering a one-tailed $\\alpha = 0.05$, it corresponds to $t_{critical} = -1.714$.  \n",
    "\n",
    "Since the *t-test* value is much less than *t-critical*, **we reject the null** which means **we found significant statistics** to affirm that people read faster a set of congruent words when compared to incongruent ones, **which in turn is an evidence of the Stroop Effect**.  "
   ]
  },
  {
   "cell_type": "markdown",
   "metadata": {},
   "source": [
    " ### Finding the confidence interval"
   ]
  },
  {
   "cell_type": "markdown",
   "metadata": {},
   "source": [
    "The confidence interval (CI) is calculated from the following relation:  \n",
    "${CI} = \\bar{X}_d \\pm {ME}$,  \n",
    "\n",
    "where ${ME}$ stands for margin of error and is calculated as follow:  \n",
    "${ME} = t_{critical}*{SEM}$"
   ]
  },
  {
   "cell_type": "code",
   "execution_count": 15,
   "metadata": {
    "collapsed": false
   },
   "outputs": [
    {
     "name": "stdout",
     "output_type": "stream",
     "text": [
      "Confidence interval: (-9.67, -6.26)\n"
     ]
    }
   ],
   "source": [
    "t_critical = 1.714\n",
    "ME = t_critical*SEM\n",
    "CI = (Xd-ME, Xd+ME)\n",
    "print('Confidence interval: ({0:.2f}, {1:.2f})'.format(CI[0], CI[1]))"
   ]
  },
  {
   "cell_type": "markdown",
   "metadata": {},
   "source": [
    "**The CI above means that in average people read the congruent set of words almost 10 to 6 seconds faster than the incongruent one**. "
   ]
  },
  {
   "cell_type": "markdown",
   "metadata": {
    "collapsed": true
   },
   "source": [
    "-----------"
   ]
  },
  {
   "cell_type": "markdown",
   "metadata": {},
   "source": [
    "<a id='conclusions'></a>\n",
    "## 4. Conclusions\n",
    "Regarding the *Stroop Effect*, according to <a href=\"#[2]\">[2]</a> it can be understood as an evidence in experimental psychology that a selective attention by properties is either nonexistent or incomplete. This is due to early experiments that seemed to indicate that if an object is attended, some of its properties would be processed in an automatic way, even when the observer were trying to ignore them. The findings from Stroop Effect bring evidences that selective attention to color may not be possible after all. Still according to <a href=\"#[2]\">[2]</a>, the Stroop interference also occurs when subjects are asked to name an object that is drawn in outline around the name of a different object, for example. \n",
    "\n",
    "In this analysis we presented the Stroop Effect and applyed a t-test to collect statistic evidence to support this perceptive phenomenon. In doing so, we have gone through the steps necessary to test a hypothesis as well as gain confidence that the method can be valid even for a small number of samples, provided certain conditions. "
   ]
  },
  {
   "cell_type": "markdown",
   "metadata": {},
   "source": [
    "--------------"
   ]
  },
  {
   "cell_type": "markdown",
   "metadata": {},
   "source": [
    "<a id='references'></a>\n",
    "## References\n",
    "\n",
    "<a id='[1]'></a>[1] Wikipedia contributors. *Stroop effect*. Wikipedia, The Free Encyclopedia. Available at: https://en.wikipedia.org/wiki/Stroop_effect. Accessed in May 1st, 2018.\n",
    "\n",
    "<a id='[2]'></a>[2] Palmer, S.E. (1999). *Vision Science: Photons to Phenomenology*. MIT Press.\n",
    "\n",
    "<a id='[3]'></a>[3] Udacity. *Stroop Effect Dataset*. Available at: \n",
    "https://www.google.com/url?q=https://drive.google.com/file/d/0B9Yf01UaIbUgQXpYb2NhZ29yX1U/view?usp%3Dsharing&sa=D&ust=1525216530059000. Accessed in May 1st, 2018.\n",
    "\n",
    "<a id='[4]'></a>[4] Aankul A. *T-test using Python and Numpy*. Towards Data Science. Available at: https://towardsdatascience.com/inferential-statistics-series-t-test-using-numpy-2718f8f9bf2f. Accessed in May 3rd, 2018.\n",
    "\n",
    "<a id='[5]'></a>[5] Rumsey, D. (2011) *Statistics for dummies*. 2nd Edition. Wiley. "
   ]
  }
 ],
 "metadata": {
  "kernelspec": {
   "display_name": "Python [conda env:analytics2]",
   "language": "python",
   "name": "conda-env-analytics2-py"
  },
  "language_info": {
   "codemirror_mode": {
    "name": "ipython",
    "version": 2
   },
   "file_extension": ".py",
   "mimetype": "text/x-python",
   "name": "python",
   "nbconvert_exporter": "python",
   "pygments_lexer": "ipython2",
   "version": "2.7.14"
  }
 },
 "nbformat": 4,
 "nbformat_minor": 2
}
